{
  "cells": [
    {
      "cell_type": "markdown",
      "metadata": {
        "id": "2XFd4qJb_tOK"
      },
      "source": [
        "# 1 - Sintaxe Básica e Estrutura do Código em Python"
      ]
    },
    {
      "cell_type": "code",
      "execution_count": 1,
      "metadata": {
        "colab": {
          "base_uri": "https://localhost:8080/"
        },
        "id": "keBE93L2_4ka",
        "outputId": "6e1b071d-f332-4be2-f76f-8cd3c64d4390"
      },
      "outputs": [
        {
          "name": "stdout",
          "output_type": "stream",
          "text": [
            "Codiguin\n",
            "Isso rodará\n"
          ]
        }
      ],
      "source": [
        "print(\"Codiguin\")\n",
        "\n",
        "print('Isso rodará')"
      ]
    },
    {
      "cell_type": "markdown",
      "metadata": {
        "id": "m-qg8dUk_89q"
      },
      "source": [
        "# 2 - Atribuição de variáveis."
      ]
    },
    {
      "cell_type": "code",
      "execution_count": 2,
      "metadata": {
        "colab": {
          "base_uri": "https://localhost:8080/"
        },
        "id": "RPKBdErmAEH3",
        "outputId": "b924fc64-a5fa-4b3c-f364-b1972b87c7ec"
      },
      "outputs": [
        {
          "name": "stdout",
          "output_type": "stream",
          "text": [
            "Há 100 carros disponíveis.\n",
            "Há apenas 30 motoristas disponíveis.\n",
            "Haverá 70 carros vazios hoje.\n",
            "Podemos transportar 120.0 pessoas hoje.\n",
            "Temos 90 passageiros para a carona hoje.\n",
            "Precisamos colocar cerca de 3.0 em cada carro.\n",
            "2.0\n"
          ]
        }
      ],
      "source": [
        "carros = 100\n",
        "espacoEmUmCarro = 4.0\n",
        "motoristas = 30\n",
        "passageiros = 90\n",
        "carrosNaoDirigidos = carros - motoristas\n",
        "carrosDirigidos = motoristas\n",
        "capacidadeCarona = carrosDirigidos * espacoEmUmCarro\n",
        "mediaPassageirosPorCarro = passageiros / carrosDirigidos\n",
        "\n",
        "print(\"Há\", carros, \"carros disponíveis.\")\n",
        "print(\"Há apenas\", motoristas, \"motoristas disponíveis.\")\n",
        "print(\"Haverá\", carrosNaoDirigidos, \"carros vazios hoje.\")\n",
        "print(\"Podemos transportar\", capacidadeCarona, \"pessoas hoje.\")\n",
        "print(\"Temos\", passageiros, \"passageiros para a carona hoje.\")\n",
        "print(\"Precisamos colocar cerca de\", mediaPassageirosPorCarro, \"em cada carro.\")\n",
        "print(10/5)"
      ]
    },
    {
      "cell_type": "markdown",
      "metadata": {
        "id": "MY7iG9nmApsY"
      },
      "source": [
        "# 3 - Entrada e saída de dados"
      ]
    },
    {
      "cell_type": "code",
      "execution_count": null,
      "metadata": {
        "colab": {
          "base_uri": "https://localhost:8080/"
        },
        "id": "9kUSQdsiA0lV",
        "outputId": "23242645-43ba-47e0-d22c-80050a7134c6"
      },
      "outputs": [
        {
          "name": "stdout",
          "output_type": "stream",
          "text": [
            "Quantos anos você tem? 21\n",
            "Qual a sua altura (cm)? 175\n",
            "Quanto você pesa? 76\n",
            "Então, você tem 21 anos, 175 cm de altura e pesa 76.\n"
          ]
        }
      ],
      "source": [
        "print(\"Quantos anos você tem?\", end=' ')\n",
        "idade = input()\n",
        "\n",
        "print(\"Qual a sua altura (cm)?\", end=' ')\n",
        "altura = input()\n",
        "\n",
        "print(\"Quanto você pesa?\", end=' ')\n",
        "peso = input()\n",
        "\n",
        "print(f\"Então, você tem {idade} anos, {altura} cm de altura e pesa {peso}.\")"
      ]
    },
    {
      "cell_type": "markdown",
      "metadata": {
        "id": "ywc2ypWlA3rS"
      },
      "source": [
        "# 4 - Operadores"
      ]
    },
    {
      "cell_type": "code",
      "execution_count": null,
      "metadata": {
        "colab": {
          "base_uri": "https://localhost:8080/"
        },
        "id": "iFyZOIZ5A6LP",
        "outputId": "bb053ad2-1909-4626-fddc-cd734e72d67c"
      },
      "outputs": [
        {
          "name": "stdout",
          "output_type": "stream",
          "text": [
            "Agora vou contar minhas galinhas:\n",
            "Galinhas 30.0\n",
            "Galos 97.0\n",
            "Agora vou contar os ovos:\n",
            "6.75\n",
            "É verdade que 3 + 2 < 5 - 7?\n",
            "False\n",
            "Quanto é 3 + 2? 5\n",
            "Quanto é 5 - 7? -2\n",
            "Ah, é por isso que é Falso.\n",
            "Que tal mais algumas comparações?\n",
            "É maior? True\n",
            "É maior ou igual? True\n",
            "É menor ou igual? False\n"
          ]
        }
      ],
      "source": [
        "print(\"Agora vou contar minhas galinhas:\")\n",
        "print(\"Galinhas\", 25 + 30 / 6)\n",
        "print(\"Galos\", 100.0 - 25 * 3 % 4)\n",
        "\n",
        "print(\"Agora vou contar os ovos:\")\n",
        "print(3 + 2 + 1 - 5 + 4 % 2 - 1 / 4 + 6)\n",
        "\n",
        "print(\"É verdade que 3 + 2 < 5 - 7?\")\n",
        "print(3 + 2 < 5 - 7)\n",
        "\n",
        "print(\"Quanto é 3 + 2?\", 3 + 2)\n",
        "print(\"Quanto é 5 - 7?\", 5 - 7)\n",
        "print(\"Ah, é por isso que é Falso.\")\n",
        "\n",
        "print(\"Que tal mais algumas comparações?\")\n",
        "\n",
        "print(\"É maior?\", 5 > -2)\n",
        "print(\"É maior ou igual?\", 5 >= -2)\n",
        "print(\"É menor ou igual?\", 5 <= -2)"
      ]
    },
    {
      "cell_type": "markdown",
      "metadata": {
        "id": "dCFT4HIuBXOt"
      },
      "source": [
        "# 5 - Estruturas Condicionais"
      ]
    },
    {
      "cell_type": "code",
      "execution_count": null,
      "metadata": {
        "colab": {
          "base_uri": "https://localhost:8080/"
        },
        "id": "bTHn2J6QBY_R",
        "outputId": "45939dc1-a599-45d5-f5fa-c6c03fa47caa"
      },
      "outputs": [
        {
          "name": "stdout",
          "output_type": "stream",
          "text": [
            "Devemos pegar os carros.\n",
            "Talvez possamos pegar os caminhões.\n",
            "Certo, vamos apenas pegar os caminhões.\n"
          ]
        }
      ],
      "source": [
        "pessoas = 30\n",
        "carros = 40\n",
        "caminhoes = 15\n",
        "\n",
        "if carros > pessoas:\n",
        "    print(\"Devemos pegar os carros.\")\n",
        "elif carros < pessoas:\n",
        "    print(\"Não devemos pegar os carros.\")\n",
        "else:\n",
        "    print(\"Não podemos decidir.\")\n",
        "\n",
        "if caminhoes > carros:\n",
        "    print(\"São caminhões demais.\")\n",
        "elif caminhoes < carros:\n",
        "    print(\"Talvez possamos pegar os caminhões.\")\n",
        "else:\n",
        "    print(\"Ainda não podemos decidir.\")\n",
        "\n",
        "if pessoas > caminhoes:\n",
        "    print(\"Certo, vamos apenas pegar os caminhões.\")\n",
        "else:\n",
        "    print(\"Tudo bem, então vamos ficar em casa.\")\n"
      ]
    },
    {
      "cell_type": "markdown",
      "metadata": {
        "id": "rCMMNglwBgN9"
      },
      "source": [
        "# 6 - Laços de Repetição"
      ]
    },
    {
      "cell_type": "code",
      "execution_count": 6,
      "metadata": {
        "colab": {
          "base_uri": "https://localhost:8080/"
        },
        "id": "YZxqsh_ABoto",
        "outputId": "b057e72c-8943-4287-d119-884c319b82cb"
      },
      "outputs": [
        {
          "name": "stdout",
          "output_type": "stream",
          "text": [
            "No topo, i é 0\n",
            "Números agora: [0]\n",
            "Na parte inferior, i é 1\n",
            "No topo, i é 1\n",
            "Números agora: [0, 1]\n",
            "Na parte inferior, i é 2\n",
            "No topo, i é 2\n",
            "Números agora: [0, 1, 2]\n",
            "Na parte inferior, i é 3\n",
            "No topo, i é 3\n",
            "Números agora: [0, 1, 2, 3]\n",
            "Na parte inferior, i é 4\n",
            "No topo, i é 4\n",
            "Números agora: [0, 1, 2, 3, 4]\n",
            "Na parte inferior, i é 5\n",
            "No topo, i é 5\n",
            "Números agora: [0, 1, 2, 3, 4, 5]\n",
            "Na parte inferior, i é 6\n",
            "Os números:\n",
            "0\n",
            "1\n",
            "2\n",
            "3\n",
            "4\n",
            "5\n"
          ]
        }
      ],
      "source": [
        "i = 0\n",
        "numeros = []\n",
        "\n",
        "while i < 6:\n",
        "    print(f\"No topo, i é {i}\")\n",
        "    numeros.append(i)\n",
        "\n",
        "    i = i + 1\n",
        "    print(\"Números agora:\", numeros)\n",
        "    print(f\"Na parte inferior, i é {i}\")\n",
        "\n",
        "print(\"Os números:\")\n",
        "\n",
        "for num in numeros:\n",
        "    print(num)\n"
      ]
    },
    {
      "cell_type": "markdown",
      "metadata": {
        "id": "BZcBEOgJBuLS"
      },
      "source": [
        "# 7 - Listas e Strings"
      ]
    },
    {
      "cell_type": "code",
      "execution_count": null,
      "metadata": {
        "colab": {
          "base_uri": "https://localhost:8080/"
        },
        "id": "HgSgfPmIBvyQ",
        "outputId": "98204dea-daec-43e3-8ad7-cb39e9ee792c"
      },
      "outputs": [
        {
          "name": "stdout",
          "output_type": "stream",
          "text": [
            "Este é o número 1\n",
            "Este é o número 2\n",
            "Este é o número 3\n",
            "Este é o número 4\n",
            "Este é o número 5\n",
            "Uma fruta do tipo: maçãs\n",
            "Uma fruta do tipo: laranjas\n",
            "Uma fruta do tipo: peras\n",
            "Uma fruta do tipo: damascos\n",
            "Eu tenho 1\n",
            "Eu tenho centavos\n",
            "Eu tenho 2\n",
            "Eu tenho dimes\n",
            "Eu tenho 3\n",
            "Eu tenho quarters\n",
            "Adicionando 0 à lista.\n",
            "Adicionando 1 à lista.\n",
            "Adicionando 2 à lista.\n",
            "Adicionando 3 à lista.\n",
            "Adicionando 4 à lista.\n",
            "Adicionando 5 à lista.\n",
            "O elemento era: 0\n",
            "O elemento era: 1\n",
            "O elemento era: 2\n",
            "O elemento era: 3\n",
            "O elemento era: 4\n",
            "O elemento era: 5\n"
          ]
        }
      ],
      "source": [
        "contagem = [1, 2, 3, 4, 5]\n",
        "frutas = ['maçãs', 'laranjas', 'peras', 'damascos']\n",
        "troco = [1, 'centavos', 2, 'dimes', 3, 'quarters']\n",
        "\n",
        "for numero in contagem:\n",
        "    print(f\"Este é o número {numero}\")\n",
        "\n",
        "for fruta in frutas:\n",
        "    print(f\"Uma fruta do tipo: {fruta}\")\n",
        "\n",
        "for i in troco:\n",
        "    print(f\"Eu tenho {i}\")\n",
        "\n",
        "elementos = []\n",
        "\n",
        "for i in range(0, 6):\n",
        "    print(f\"Adicionando {i} à lista.\")\n",
        "    elementos.append(i)\n",
        "\n",
        "for i in elementos:\n",
        "    print(f\"O elemento era: {i}\")"
      ]
    },
    {
      "cell_type": "markdown",
      "metadata": {
        "id": "sO3lVuyDCLWP"
      },
      "source": [
        "# Exercícios"
      ]
    },
    {
      "cell_type": "markdown",
      "metadata": {
        "id": "-30P7mBQCdae"
      },
      "source": [
        "## Exercício 1"
      ]
    },
    {
      "cell_type": "code",
      "execution_count": null,
      "metadata": {
        "colab": {
          "base_uri": "https://localhost:8080/"
        },
        "id": "-tsS9Zb0CNGr",
        "outputId": "aa19664e-8d01-410e-87ec-c945084a897e"
      },
      "outputs": [
        {
          "name": "stdout",
          "output_type": "stream",
          "text": [
            "Digite o comprimento da caixa: 10\n",
            "Digite a largura da caixa: 20\n",
            "Digite a altura da caixa: 30\n",
            "O volume da caixa é: 6000.0\n"
          ]
        }
      ],
      "source": [
        "comprimento = float(input(\"Digite o comprimento da caixa: \"))\n",
        "largura = float(input(\"Digite a largura da caixa: \"))\n",
        "altura = float(input(\"Digite a altura da caixa: \"))\n",
        "\n",
        "volume = comprimento * largura * altura\n",
        "print(f\"O volume da caixa é: {volume}\")"
      ]
    },
    {
      "cell_type": "markdown",
      "metadata": {
        "id": "_GN_O_W2CYzN"
      },
      "source": [
        "## Exercício 2"
      ]
    },
    {
      "cell_type": "code",
      "execution_count": null,
      "metadata": {
        "colab": {
          "base_uri": "https://localhost:8080/"
        },
        "id": "NrkMSVC6CjKv",
        "outputId": "1ea76f58-9ff6-4e17-9fcd-ad3815347b95"
      },
      "outputs": [
        {
          "name": "stdout",
          "output_type": "stream",
          "text": [
            "Digite um texto: eu sou legal\n",
            "O texto contém 3 palavras.\n"
          ]
        }
      ],
      "source": [
        "texto = input(\"Digite um texto: \")\n",
        "palavras = texto.split()\n",
        "print(f\"O texto contém {len(palavras)} palavras.\")"
      ]
    },
    {
      "cell_type": "markdown",
      "metadata": {
        "id": "Gt9xWwx9Cjzv"
      },
      "source": [
        "## Exercício 3"
      ]
    },
    {
      "cell_type": "code",
      "execution_count": null,
      "metadata": {
        "colab": {
          "base_uri": "https://localhost:8080/"
        },
        "id": "hwlhKzB6Cqf7",
        "outputId": "30a8ff0e-17ce-4209-a663-d9f7d268dc46"
      },
      "outputs": [
        {
          "name": "stdout",
          "output_type": "stream",
          "text": [
            "Digite um texto: ainda estou aqui\n",
            "Digite a palavra que deseja substituir: aqui\n",
            "Digite a nova palavra: nova\n",
            "Texto modificado: ainda estou nova\n"
          ]
        }
      ],
      "source": [
        "texto_original = input(\"Digite um texto: \")\n",
        "palavra_busca = input(\"Digite a palavra que deseja substituir: \")\n",
        "palavra_substituir = input(\"Digite a nova palavra: \")\n",
        "\n",
        "texto_modificado = texto_original.replace(palavra_busca, palavra_substituir)\n",
        "print(\"Texto modificado:\", texto_modificado)"
      ]
    },
    {
      "cell_type": "markdown",
      "metadata": {
        "id": "gGkLiw9gCqUv"
      },
      "source": [
        "## Exercício 4"
      ]
    },
    {
      "cell_type": "code",
      "execution_count": null,
      "metadata": {
        "colab": {
          "base_uri": "https://localhost:8080/"
        },
        "id": "KPS8kWiTCqDv",
        "outputId": "0fc35865-81ce-4b1b-9a4b-fbbeb24220b3"
      },
      "outputs": [
        {
          "name": "stdout",
          "output_type": "stream",
          "text": [
            "Digite um texto com várias frases separadas por ponto: eu sou. um cara. muito. legal.\n",
            "Frases separadas:\n",
            "eu sou\n",
            "um cara\n",
            "muito\n",
            "legal\n"
          ]
        }
      ],
      "source": [
        "texto = input(\"Digite um texto com várias frases separadas por ponto: \")\n",
        "frases = texto.split('.')\n",
        "print(\"Frases separadas:\")\n",
        "for frase in frases:\n",
        "    if frase.strip():\n",
        "        print(frase.strip())"
      ]
    },
    {
      "cell_type": "markdown",
      "metadata": {
        "id": "AOnRwJiWCvEq"
      },
      "source": [
        "## Exercício 5"
      ]
    },
    {
      "cell_type": "code",
      "execution_count": null,
      "metadata": {
        "colab": {
          "base_uri": "https://localhost:8080/"
        },
        "id": "Zvb7xR4dCvXM",
        "outputId": "fe0b0d2e-ac06-4977-876e-cb68f6e89083"
      },
      "outputs": [
        {
          "name": "stdout",
          "output_type": "stream",
          "text": [
            "Digite o primeiro número: 12\n",
            "Digite o segundo número: -89\n",
            "Digite o terceiro número: 6333\n",
            "Números em ordem crescente: [-89, 12, 6333]\n"
          ]
        }
      ],
      "source": [
        "a = int(input(\"Digite o primeiro número: \"))\n",
        "b = int(input(\"Digite o segundo número: \"))\n",
        "c = int(input(\"Digite o terceiro número: \"))\n",
        "\n",
        "numeros = [a, b, c]\n",
        "numeros.sort()\n",
        "print(\"Números em ordem crescente:\", numeros)"
      ]
    },
    {
      "cell_type": "markdown",
      "metadata": {
        "id": "Nq7Bscy4Cvqv"
      },
      "source": [
        "## Exercício 6"
      ]
    },
    {
      "cell_type": "code",
      "execution_count": null,
      "metadata": {
        "colab": {
          "base_uri": "https://localhost:8080/"
        },
        "id": "6AZbUu1hCv5v",
        "outputId": "8898e919-be66-4235-da1d-4bc9f38a6e81"
      },
      "outputs": [
        {
          "name": "stdout",
          "output_type": "stream",
          "text": [
            "Digite o 1º valor: 6\n",
            "Digite o 2º valor: 4\n",
            "Digite o 3º valor: 89\n",
            "Digite o 4º valor: 3\n",
            "Valores divisíveis por 2 e 3:\n",
            "6\n"
          ]
        }
      ],
      "source": [
        "valores = []\n",
        "for i in range(4):\n",
        "    valores.append(int(input(f\"Digite o {i+1}º valor: \")))\n",
        "\n",
        "print(\"Valores divisíveis por 2 e 3:\")\n",
        "for valor in valores:\n",
        "    if valor % 2 == 0 and valor % 3 == 0:\n",
        "        print(valor)"
      ]
    },
    {
      "cell_type": "markdown",
      "metadata": {
        "id": "5XMFNYLACzR2"
      },
      "source": [
        "## Exercício 7"
      ]
    },
    {
      "cell_type": "code",
      "execution_count": null,
      "metadata": {
        "colab": {
          "base_uri": "https://localhost:8080/"
        },
        "id": "dDjeIanQCzhI",
        "outputId": "f2f5693b-329f-4d7f-c71d-625cb5003bec"
      },
      "outputs": [
        {
          "name": "stdout",
          "output_type": "stream",
          "text": [
            "Números divisíveis por 4 e menores que 200:\n",
            "4\n",
            "8\n",
            "12\n",
            "16\n",
            "20\n",
            "24\n",
            "28\n",
            "32\n",
            "36\n",
            "40\n",
            "44\n",
            "48\n",
            "52\n",
            "56\n",
            "60\n",
            "64\n",
            "68\n",
            "72\n",
            "76\n",
            "80\n",
            "84\n",
            "88\n",
            "92\n",
            "96\n",
            "100\n",
            "104\n",
            "108\n",
            "112\n",
            "116\n",
            "120\n",
            "124\n",
            "128\n",
            "132\n",
            "136\n",
            "140\n",
            "144\n",
            "148\n",
            "152\n",
            "156\n",
            "160\n",
            "164\n",
            "168\n",
            "172\n",
            "176\n",
            "180\n",
            "184\n",
            "188\n",
            "192\n",
            "196\n"
          ]
        }
      ],
      "source": [
        "print(\"Números divisíveis por 4 e menores que 200:\")\n",
        "for i in range(4, 200, 4):\n",
        "    print(i)"
      ]
    }
  ],
  "metadata": {
    "colab": {
      "provenance": []
    },
    "kernelspec": {
      "display_name": "Python 3",
      "name": "python3"
    },
    "language_info": {
      "codemirror_mode": {
        "name": "ipython",
        "version": 3
      },
      "file_extension": ".py",
      "mimetype": "text/x-python",
      "name": "python",
      "nbconvert_exporter": "python",
      "pygments_lexer": "ipython3",
      "version": "3.12.6"
    }
  },
  "nbformat": 4,
  "nbformat_minor": 0
}
