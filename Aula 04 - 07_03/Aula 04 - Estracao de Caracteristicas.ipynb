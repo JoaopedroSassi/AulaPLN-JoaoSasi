{
  "nbformat": 4,
  "nbformat_minor": 0,
  "metadata": {
    "colab": {
      "provenance": []
    },
    "kernelspec": {
      "name": "python3",
      "display_name": "Python 3"
    },
    "language_info": {
      "name": "python"
    }
  },
  "cells": [
    {
      "cell_type": "markdown",
      "source": [
        "# Aula 4 - Extração de Características"
      ],
      "metadata": {
        "id": "EZLG0RpAOShj"
      }
    },
    {
      "cell_type": "markdown",
      "source": [
        "## EX 1 - BOW"
      ],
      "metadata": {
        "id": "EvvmfzvcMjig"
      }
    },
    {
      "cell_type": "code",
      "execution_count": null,
      "metadata": {
        "colab": {
          "base_uri": "https://localhost:8080/"
        },
        "id": "OYAQZ5JHCMNL",
        "outputId": "1813b3c1-8309-4622-c82c-d985a4a41cdf"
      },
      "outputs": [
        {
          "output_type": "stream",
          "name": "stdout",
          "text": [
            "Vocabulario: {'gato': 3, 'cachorro': 1, 'brinca': 0, 'com': 2, 'rato': 4}\n",
            "Matriz BoW:\n",
            "[[0 1 0 1 0]\n",
            " [1 1 1 1 0]\n",
            " [0 0 0 1 1]]\n"
          ]
        }
      ],
      "source": [
        "from sklearn. feature_extraction.text import CountVectorizer\n",
        "\n",
        "documentos = [\n",
        "  \"gato e cachorro\",\n",
        "  \"gato brinca com cachorro\",\n",
        "  \"gato e rato\"\n",
        "]\n",
        "\n",
        "vectorizer = CountVectorizer()\n",
        "\n",
        "X = vectorizer. fit_transform(documentos)\n",
        "# fit >>> cria um vocabulário das palavras\n",
        "# transforme >>> conta a frequencia de cada palavra no corpus\n",
        "\n",
        "print(f\"Vocabulario: {vectorizer. vocabulary_}\")\n",
        "\n",
        "print(\"Matriz BoW:\")\n",
        "print (X. toarray())"
      ]
    },
    {
      "cell_type": "markdown",
      "source": [
        "## EX 2 - BOW com TF-IDF"
      ],
      "metadata": {
        "id": "iiVp3MGzOV2b"
      }
    },
    {
      "cell_type": "code",
      "source": [
        "from sklearn.feature_extraction.text import CountVectorizer\n",
        "from sklearn.feature_extraction.text import TfidfVectorizer\n",
        "\n",
        "documentos = [\n",
        "  \"O cachorro gosta de passear no parque\",\n",
        "  \"O gato dorme no sofá o dia todo\",\n",
        "  \"Cachorros e gatos podem ser bons amigos\"\n",
        "]\n",
        "\n",
        "#BOW\n",
        "vectorizer_bow = CountVectorizer()\n",
        "x_bow = vectorizer_bow.fit_transform(documentos)\n",
        "\n",
        "print(f\"Vocabulario BoW: {vectorizer_bow. vocabulary_}\")\n",
        "print(\"Matriz BoW:\")\n",
        "print(x_bow.toarray())\n",
        "\n",
        "#BOW+TF-IDF\n",
        "vectorizer_tfidf = TfidfVectorizer()\n",
        "x_tfidf = vectorizer_tfidf.fit_transform(documentos)\n",
        "\n",
        "print(f\"\\nVocabulario TF-IDF: {vectorizer_tfidf.vocabulary_}\")\n",
        "print(\"Matriz TF-IDF\")\n",
        "print(x_tfidf.toarray())"
      ],
      "metadata": {
        "colab": {
          "base_uri": "https://localhost:8080/"
        },
        "id": "fFMtSXu8OX83",
        "outputId": "6b8083d0-b151-471b-8ea3-619300fbdb6d"
      },
      "execution_count": null,
      "outputs": [
        {
          "output_type": "stream",
          "name": "stdout",
          "text": [
            "Vocabulario BoW: {'cachorro': 2, 'gosta': 9, 'de': 4, 'passear': 12, 'no': 10, 'parque': 11, 'gato': 7, 'dorme': 6, 'sofá': 15, 'dia': 5, 'todo': 16, 'cachorros': 3, 'gatos': 8, 'podem': 13, 'ser': 14, 'bons': 1, 'amigos': 0}\n",
            "Matriz BoW:\n",
            "[[0 0 1 0 1 0 0 0 0 1 1 1 1 0 0 0 0]\n",
            " [0 0 0 0 0 1 1 1 0 0 1 0 0 0 0 1 1]\n",
            " [1 1 0 1 0 0 0 0 1 0 0 0 0 1 1 0 0]]\n",
            "\n",
            "Vocabulario TF-IDF: {'cachorro': 2, 'gosta': 9, 'de': 4, 'passear': 12, 'no': 10, 'parque': 11, 'gato': 7, 'dorme': 6, 'sofá': 15, 'dia': 5, 'todo': 16, 'cachorros': 3, 'gatos': 8, 'podem': 13, 'ser': 14, 'bons': 1, 'amigos': 0}\n",
            "Matriz TF-IDF\n",
            "[[0.         0.         0.42339448 0.         0.42339448 0.\n",
            "  0.         0.         0.         0.42339448 0.32200242 0.42339448\n",
            "  0.42339448 0.         0.         0.         0.        ]\n",
            " [0.         0.         0.         0.         0.         0.42339448\n",
            "  0.42339448 0.42339448 0.         0.         0.32200242 0.\n",
            "  0.         0.         0.         0.42339448 0.42339448]\n",
            " [0.40824829 0.40824829 0.         0.40824829 0.         0.\n",
            "  0.         0.         0.40824829 0.         0.         0.\n",
            "  0.         0.40824829 0.40824829 0.         0.        ]]\n"
          ]
        }
      ]
    },
    {
      "cell_type": "markdown",
      "source": [
        "## EX 4 - WordEmbedding com Word2VEX"
      ],
      "metadata": {
        "id": "-SzC9BavRTyO"
      }
    },
    {
      "cell_type": "code",
      "source": [
        "from gensim.models import Word2Vec\n",
        "\n",
        "corpus = [\n",
        "  [\"o\",\"cachorro\",\"está\",\"dormindo\"],\n",
        "  [\"o\",\"gato\",\"está\",\"dormindo\"]\n",
        "]\n",
        "\n",
        "model = Word2Vec(sentences=corpus, vector_size=100, window=5, min_count=1,sg=1)\n",
        "# sentences = define o texto a ser transformado em vetor\n",
        "# vector_size = define a dimensão dos vetores que representarão as palavras\n",
        "# window = define a janela de contexto. considera as palavras antes e as palavras depois no alvo para aprender\n",
        "# min_count = ignora as palavras que aparecer 1 vez no corpus\n",
        "# indica o modelo utilizado\n",
        "# 1 = skip_gram;\n",
        "# 0 = CBOW\n",
        "\n",
        "vector = model.wv['cachorro']\n",
        "\n",
        "similarity = model.wv.similarity('cachorro','gato')\n",
        "\n",
        "print(\"Similaridade entre 'cachorro' e 'gato': \", similarity)"
      ],
      "metadata": {
        "colab": {
          "base_uri": "https://localhost:8080/"
        },
        "id": "L39Wp3NtRaSL",
        "outputId": "3198ed6a-4b21-447a-a585-afb465c664fc"
      },
      "execution_count": null,
      "outputs": [
        {
          "output_type": "stream",
          "name": "stdout",
          "text": [
            "Similaridade entre 'cachorro' e 'gato':  -0.0446171\n"
          ]
        }
      ]
    },
    {
      "cell_type": "code",
      "source": [
        "from gensim.models import Word2Vec\n",
        "\n",
        "corpus = [\n",
        "  [\"o\", \"cachorro\", \"está\", \"latindo\", \"no\", \"quintal\"],\n",
        "  [\"o\", \"gato\", \"está\", \"miando\", \"no\", \"telhado\"],\n",
        "  [\"o\", \"pássaro\", \"está\", \"voando\", \"no\", \"céu\",'lua'],\n",
        "  [\"a\", \"bola\", \"está\", \"rolando\", \"no\", \"chão\"],\n",
        "  [\"a\", \"criança\", \"está\", \"brincando\", \"com\", \"o\", \"cachorro\"],\n",
        "  [\"o\", \"gato\", \"e\", \"o\", \"rato\", \"são\", \"inimigos\"],\n",
        "  [\"a\", \"água\", \"está\", \"quente\", \"na\", \"caneca\"],\n",
        "  [\"o\", \"sol\", \"está\", \"brilhando\", \"no\", \"céu\"],\n",
        "  [\"a\", \"lua\", \"está\", \"cheia\", \"hoje\",'no' , 'céu' ],\n",
        "  [\"a\", \"computador\", \"está\", \"ligado\", \"na\", \"mesa\"],\n",
        "  ['a','lua' ,'esta' , 'no' , 'ceu', 'lua' , 'bonita' ]\n",
        "]\n",
        "\n",
        "model = Word2Vec(sentences=corpus, vector_size=100, window=5, min_count=1, sg=1)\n",
        "\n",
        "print(f\"Similaridade entre cachorro e gato: {model.wv.similarity('cachorro', 'gato' ) }\")\n",
        "print(f\"Similaridade entre cachorro e bola: {model.wv.similarity('cachorro', 'bola' ) }\")\n",
        "print(f\"Similaridade entre céu e lua: {model.wv.similarity('ceu', 'lua' ) }\")\n",
        "print(f\"Similaridade entre computador e mesa: {model.wv.similarity('computador', 'mesa' ) }\")"
      ],
      "metadata": {
        "colab": {
          "base_uri": "https://localhost:8080/"
        },
        "id": "UTQ8lLc6R_Y4",
        "outputId": "587917a8-b979-4026-89c6-d51fcf3fd467"
      },
      "execution_count": null,
      "outputs": [
        {
          "output_type": "stream",
          "name": "stdout",
          "text": [
            "Similaridade entre cachorro e gato: 0.004977396689355373\n",
            "Similaridade entre cachorro e bola: -0.08383868634700775\n",
            "Similaridade entre céu e lua: 0.013849331066012383\n",
            "Similaridade entre computador e mesa: -0.0018980697495862842\n"
          ]
        }
      ]
    }
  ]
}