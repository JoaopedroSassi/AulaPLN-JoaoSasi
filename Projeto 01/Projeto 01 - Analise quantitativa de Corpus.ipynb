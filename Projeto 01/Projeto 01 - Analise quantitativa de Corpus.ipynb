{
  "nbformat": 4,
  "nbformat_minor": 0,
  "metadata": {
    "colab": {
      "provenance": []
    },
    "kernelspec": {
      "name": "python3",
      "display_name": "Python 3"
    },
    "language_info": {
      "name": "python"
    }
  },
  "cells": [
    {
      "cell_type": "markdown",
      "source": [
        "# Projeto 1 - Análise quantitativa de Corpus"
      ],
      "metadata": {
        "id": "2b_AqiSr2RXu"
      }
    },
    {
      "cell_type": "code",
      "source": [
        "def ler(nome_arquivo):\n",
        "  arquivo = open(nome_arquivo,'r', encoding='utf-8')\n",
        "  conteudo_arq = arquivo.read()\n",
        "  arquivo.close()\n",
        "  return conteudo_arq\n",
        "\n",
        "texto = ler('/content/drive/MyDrive/FatecMaua/6_Sem/ProcessamentoLinguagemNatural/2025.05 Ubirajara.txt')\n",
        "print(len(texto))"
      ],
      "metadata": {
        "id": "-jt-avIz2UnZ",
        "colab": {
          "base_uri": "https://localhost:8080/"
        },
        "outputId": "5804328f-e969-406a-e8cd-93bca72de03a"
      },
      "execution_count": null,
      "outputs": [
        {
          "output_type": "stream",
          "name": "stdout",
          "text": [
            "219835\n"
          ]
        }
      ]
    },
    {
      "cell_type": "markdown",
      "source": [
        "### Primeira Etapa - Buscador de palavras"
      ],
      "metadata": {
        "id": "dx42z3DVLpzt"
      }
    },
    {
      "cell_type": "code",
      "source": [
        "def buscador(alvo, texto):\n",
        "  texto = texto.replace('\\n', ' ')\n",
        "  texto = texto.replace('\\t', ' ')\n",
        "\n",
        "  ocorrencias = []\n",
        "  encontrado_aqui = texto.find(alvo, 0)\n",
        "\n",
        "  while encontrado_aqui > 0:\n",
        "    pos_inicial = encontrado_aqui - (40 - len(alvo))\n",
        "    trecho = texto[pos_inicial: pos_inicial + 80]\n",
        "\n",
        "    ocorrencias.append(trecho)\n",
        "\n",
        "    encontrado_aqui = texto.find(alvo, encontrado_aqui + 1)\n",
        "\n",
        "  return ocorrencias\n",
        "\n",
        "resultados = buscador('peito', texto)\n",
        "for trecho in resultados:\n",
        "  print(trecho)"
      ],
      "metadata": {
        "colab": {
          "base_uri": "https://localhost:8080/"
        },
        "id": "-xCYNZqrLtFz",
        "outputId": "e2be5d09-a484-4390-c4e2-c0ccd2ac9913"
      },
      "execution_count": null,
      "outputs": [
        {
          "output_type": "stream",
          "name": "stdout",
          "text": [
            "i o chefe tocantim quem recebeu no peito a ponta farpada.  Quando o corpo robust\n",
            " se tua arma traiçoeira me feriu o peito, o suplicio não vencerá a constancia do\n",
            "java falar; todos escutaram com respeito o heróe, ainda maior na desgraça.  --Gu\n",
            "ança, escrava de Jaguarê, cravou o peito do inimigo.  «Elle caiu, o guerreiro ch\n",
            "O labio de Jandira emudeceu; mas o peito soluçou.  A virjem conheceu que o amor \n",
            " todos dignos de teu valor. Nestes peitos, que te pertencem, ella os nutrirá com\n",
            "ndos que os botões do cardo por um peito feroz, e as mãos lijeiras que tecem os \n",
            " o acolher, todos o escutam com respeito.  «Em suas palavras prudentes, os anciã\n",
            "não quando elle não chupa mais seu peito. Ella é como a mangabeira; nutre o frut\n",
            "ente do Xingú.  As arvores que seu peito encontrava caíam lascadas.  Jurandir es\n",
            "e. Os noivos cuidavam que era a do peito do tucano; mas ella sabia que era do pe\n",
            " tucano; mas ella sabia que era do peito da arára e que tinha as côres de seu gu\n",
            "os arredores. Nada encontrou de suspeito; o rasto, que o inquietava, não chegára\n",
            "amor, e quando o leite encher seus peitos mimozos, para que ella suspenda ao col\n",
            " O grande chefe vergou a cabeça ao peito, como o cedro altaneiro batido pelo tuf\n",
            "re a cabeça de Arací:  --Itaquê respeitou a lei de hospitalidade no corpo de Ubi\n",
            "as o grito de espanto sossobrou no peito dos guerreiros, e rompeu em um grito de\n",
            "o velho guerreiro sossobrou-lhe no peito:  --O arco de Itaquê é como o gavião qu\n",
            "s do guerreiro quando se cruzam ao peito para exprimir a amizade.  Ubirajara apa\n",
            "eu guerreiro.  Ubirajara cinjiu ao peito com um e outro braço, a espoza e a virj\n",
            "336.  Póde-se ler tambem a este respeito o que diz Gabriel Soares, cit. no cap. \n",
            "abriel Soares se exprime a este respeito no cap. 152: «E como o marido lhe leva \n",
            "ilizada se observa tão profundo respeito pela união conjugal, a ponto de não con\n",
            ". VIII, que a liga vermelha e o respeito que ella inspirava indicassem guarda da\n",
            " como sua extensão, dependia do respeito que elle conseguia infundir a seus guer\n",
            "quelles sacerdotes, cercados do respeito dos guerreiros, fortes pelo prestijio d\n",
            "lações do seu culto.  Tal era o respeito que o selvajem professava pela dignidad\n",
            "sseio. Ives d'Evreux diz a este respeito: «Ils sont fort soigneux de tenir leur \n",
            "vel e _nheng_ falar.--Veja-se a respeito dos cantores, _nhengara_, o que se diss\n"
          ]
        }
      ]
    },
    {
      "cell_type": "markdown",
      "source": [
        "### Segunda Etapa - Limpeza dos Corpus"
      ],
      "metadata": {
        "id": "rmR3S0owLu-P"
      }
    },
    {
      "cell_type": "code",
      "source": [
        "palavras = texto.split()\n",
        "\n",
        "def limpar(lista):\n",
        "  lixo = '.,:;?!\"`()[]{}/\\|@#$%\"&*-'\n",
        "  quase_limpo = [x.strip(lixo).lower() for x in lista]\n",
        "  return [x for x in quase_limpo if x.isalpha() or '-' not in x]\n",
        "\n",
        "print(len(palavras))\n",
        "palavras = limpar(palavras)\n",
        "print(len(palavras))"
      ],
      "metadata": {
        "colab": {
          "base_uri": "https://localhost:8080/"
        },
        "id": "iIS9xIY2Lx2w",
        "outputId": "46b165f4-30a3-443c-dde1-266dc8457ac6"
      },
      "execution_count": null,
      "outputs": [
        {
          "output_type": "stream",
          "name": "stdout",
          "text": [
            "37139\n",
            "36585\n"
          ]
        }
      ]
    },
    {
      "cell_type": "markdown",
      "source": [
        "### Quantidade de Palavras"
      ],
      "metadata": {
        "id": "LEvH7Wo_L3o0"
      }
    },
    {
      "cell_type": "code",
      "source": [
        "vocabulario = set(palavras)\n",
        "len(vocabulario)"
      ],
      "metadata": {
        "colab": {
          "base_uri": "https://localhost:8080/"
        },
        "id": "QfMlPWPJL5er",
        "outputId": "8e4d7f6f-6105-4906-f596-2582923d780f"
      },
      "execution_count": null,
      "outputs": [
        {
          "output_type": "execute_result",
          "data": {
            "text/plain": [
              "6902"
            ]
          },
          "metadata": {},
          "execution_count": 5
        }
      ]
    },
    {
      "cell_type": "code",
      "source": [
        "# Riqueza textual\n",
        "riqueza = len(vocabulario) / len(palavras)\n",
        "print(riqueza)"
      ],
      "metadata": {
        "colab": {
          "base_uri": "https://localhost:8080/"
        },
        "id": "GHBJVvD7MnLF",
        "outputId": "c7472724-4e56-4725-8cc5-9e3eccf8967b"
      },
      "execution_count": null,
      "outputs": [
        {
          "output_type": "stream",
          "name": "stdout",
          "text": [
            "0.188656553232199\n"
          ]
        }
      ]
    },
    {
      "cell_type": "code",
      "source": [
        "# Dicionario do texto\n",
        "from collections import defaultdict\n",
        "\n",
        "def ocorrencias (lista_palavras):\n",
        "  dicionario = defaultdict(int)\n",
        "  for p in lista_palavras:\n",
        "    dicionario[p] += 1\n",
        "\n",
        "  return dicionario"
      ],
      "metadata": {
        "id": "UoLDmUrXNhn3"
      },
      "execution_count": null,
      "outputs": []
    },
    {
      "cell_type": "code",
      "source": [
        "dic = ocorrencias(palavras)\n",
        "mf = sorted(dic.items(), key=lambda tupla:tupla[1], reverse = True)[:50]\n",
        "for palavra, n in mf:\n",
        "    print(palavra, '\\t', n)"
      ],
      "metadata": {
        "colab": {
          "base_uri": "https://localhost:8080/"
        },
        "id": "jAnqxCZkNtlN",
        "outputId": "74465eeb-d92a-49b4-c385-71afc0353625"
      },
      "execution_count": null,
      "outputs": [
        {
          "output_type": "stream",
          "name": "stdout",
          "text": [
            "a \t 1491\n",
            "o \t 1398\n",
            "de \t 1199\n",
            "que \t 1119\n",
            "e \t 918\n",
            "do \t 685\n",
            "da \t 624\n",
            "os \t 496\n",
            "para \t 347\n",
            "não \t 340\n",
            "dos \t 327\n",
            "se \t 295\n",
            "as \t 266\n",
            "como \t 243\n",
            "guerreiro \t 238\n",
            "um \t 229\n",
            "seu \t 215\n",
            "em \t 213\n",
            "na \t 205\n",
            "mais \t 205\n",
            "é \t 200\n",
            "sua \t 197\n",
            "no \t 195\n",
            "com \t 195\n",
            "ao \t 190\n",
            " \t 189\n",
            "the \t 187\n",
            "á \t 186\n",
            "chefe \t 175\n",
            "ubirajara \t 174\n",
            "guerreiros \t 171\n",
            "uma \t 165\n",
            "por \t 158\n",
            "grande \t 155\n",
            "elle \t 152\n",
            "mas \t 140\n",
            "nação \t 129\n",
            "quando \t 125\n",
            "of \t 122\n",
            "das \t 115\n",
            "era \t 113\n",
            "itaquê \t 113\n",
            "seus \t 98\n",
            "pela \t 93\n",
            "virjem \t 91\n",
            "espoza \t 87\n",
            "arací \t 87\n",
            "paj \t 86\n",
            "project \t 83\n",
            "to \t 82\n"
          ]
        }
      ]
    },
    {
      "cell_type": "code",
      "source": [
        "import nltk\n",
        "nltk.download('stopwords')\n",
        "vazias = nltk.corpus.stopwords.words('portuguese')"
      ],
      "metadata": {
        "colab": {
          "base_uri": "https://localhost:8080/"
        },
        "id": "m8h_3MwkO0Cm",
        "outputId": "8187cb80-2a84-47b6-b4a2-aa471ee9ea1f"
      },
      "execution_count": null,
      "outputs": [
        {
          "output_type": "stream",
          "name": "stderr",
          "text": [
            "[nltk_data] Downloading package stopwords to /root/nltk_data...\n",
            "[nltk_data]   Unzipping corpora/stopwords.zip.\n"
          ]
        }
      ]
    },
    {
      "cell_type": "code",
      "source": [
        "frequentes_plenas = [x for x in mf if x[0].lower() not in vazias]\n",
        "frequentes_plenas"
      ],
      "metadata": {
        "colab": {
          "base_uri": "https://localhost:8080/"
        },
        "id": "sIV59xUQOsa6",
        "outputId": "a5c1b4b2-d235-4fa2-8252-d06233eb6fc9"
      },
      "execution_count": null,
      "outputs": [
        {
          "output_type": "execute_result",
          "data": {
            "text/plain": [
              "[('guerreiro', 238),\n",
              " ('', 189),\n",
              " ('the', 187),\n",
              " ('á', 186),\n",
              " ('chefe', 175),\n",
              " ('ubirajara', 174),\n",
              " ('guerreiros', 171),\n",
              " ('grande', 155),\n",
              " ('elle', 152),\n",
              " ('nação', 129),\n",
              " ('of', 122),\n",
              " ('itaquê', 113),\n",
              " ('virjem', 91),\n",
              " ('espoza', 87),\n",
              " ('arací', 87),\n",
              " ('paj', 86),\n",
              " ('project', 83),\n",
              " ('to', 82)]"
            ]
          },
          "metadata": {},
          "execution_count": 17
        }
      ]
    }
  ]
}